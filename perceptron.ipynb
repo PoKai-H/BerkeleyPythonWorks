{
 "cells": [
  {
   "cell_type": "code",
   "execution_count": null,
   "metadata": {},
   "outputs": [],
   "source": [
    "w_a = [1, 0]\n",
    "w_b = [1, 1]\n",
    "w_c = [3, 0]\n",
    "\n",
    "traning_samples = [[1, 1], [-1, 1], [1, -1], [-1, -1]]\n",
    "labels = ['A', 'B', 'C', 'A']\n",
    "\n",
    "w_a_dotfx = w_a[0]*training_sample[0] + w_a[1]*training_sample[1]\n",
    "w_b_dotfx = w_b[0]*training_sample[0] + w_b[1]*training_sample[1]\n",
    "w_c_dotfx = w_c[0]*training_sample[0] + w_c[1]*training_sample[1]"
   ]
  }
 ],
 "metadata": {
  "language_info": {
   "name": "python"
  }
 },
 "nbformat": 4,
 "nbformat_minor": 2
}
