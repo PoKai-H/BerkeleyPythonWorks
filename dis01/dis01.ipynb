{
 "cells": [
  {
   "cell_type": "code",
   "execution_count": 4,
   "metadata": {},
   "outputs": [
    {
     "data": {
      "text/plain": [
       "2030"
      ]
     },
     "execution_count": 4,
     "metadata": {},
     "output_type": "execute_result"
    }
   ],
   "source": [
    "def nearest_ten(n):\n",
    "    \"\"\"\n",
    "    >>> nearest_ten(0)\n",
    "    0\n",
    "    >>> nearest_ten(4)\n",
    "    0\n",
    "    >>> nearest_ten(5)\n",
    "    10\n",
    "    >>> nearest_ten(61)\n",
    "    60\n",
    "    >>> nearest_ten(2023)\n",
    "    2020\n",
    "    \"\"\"\n",
    "    \"*** YOUR CODE HERE ***\"\n",
    "    if n%10 > 5:\n",
    "        return (n//10+1)*10\n",
    "    else:\n",
    "        return (n//10)*10\n"
   ]
  },
  {
   "cell_type": "code",
   "execution_count": 5,
   "metadata": {},
   "outputs": [
    {
     "ename": "KeyboardInterrupt",
     "evalue": "",
     "output_type": "error",
     "traceback": [
      "\u001b[0;31m---------------------------------------------------------------------------\u001b[0m",
      "\u001b[0;31mKeyboardInterrupt\u001b[0m                         Traceback (most recent call last)",
      "Cell \u001b[0;32mIn[5], line 11\u001b[0m\n\u001b[1;32m      8\u001b[0m         x \u001b[39m=\u001b[39m x \u001b[39m+\u001b[39m \u001b[39m1\u001b[39m\n\u001b[1;32m      9\u001b[0m     \u001b[39mreturn\u001b[39;00m x \u001b[39m/\u001b[39m \u001b[39m0\u001b[39m\n\u001b[0;32m---> 11\u001b[0m square(so_slow(\u001b[39m5\u001b[39;49m))\n",
      "Cell \u001b[0;32mIn[5], line 7\u001b[0m, in \u001b[0;36mso_slow\u001b[0;34m(num)\u001b[0m\n\u001b[1;32m      5\u001b[0m \u001b[39mdef\u001b[39;00m \u001b[39mso_slow\u001b[39m(num):\n\u001b[1;32m      6\u001b[0m     x \u001b[39m=\u001b[39m num\n\u001b[0;32m----> 7\u001b[0m     \u001b[39mwhile\u001b[39;00m x \u001b[39m>\u001b[39m \u001b[39m0\u001b[39m:\n\u001b[1;32m      8\u001b[0m         x \u001b[39m=\u001b[39m x \u001b[39m+\u001b[39m \u001b[39m1\u001b[39m\n\u001b[1;32m      9\u001b[0m     \u001b[39mreturn\u001b[39;00m x \u001b[39m/\u001b[39m \u001b[39m0\u001b[39m\n",
      "\u001b[0;31mKeyboardInterrupt\u001b[0m: "
     ]
    }
   ],
   "source": [
    "def square(x):\n",
    "    print(\"here!\")\n",
    "    return x * x\n",
    "\n",
    "def so_slow(num):\n",
    "    x = num\n",
    "    while x > 0:\n",
    "        x = x + 1\n",
    "    return x / 0\n",
    "\n",
    "square(so_slow(5))"
   ]
  },
  {
   "cell_type": "code",
   "execution_count": 15,
   "metadata": {},
   "outputs": [
    {
     "data": {
      "text/plain": [
       "True"
      ]
     },
     "execution_count": 15,
     "metadata": {},
     "output_type": "execute_result"
    }
   ],
   "source": [
    "def is_prime(n):\n",
    "    \"\"\"\n",
    "    >>> is_prime(10)\n",
    "    False\n",
    "    >>> is_prime(7)\n",
    "    True\n",
    "    >>> is_prime(1) # one is not a prime number!!\n",
    "    False\n",
    "    \"\"\"\n",
    "    \"*** YOUR CODE HERE ***\"\n",
    "    temp = n-1\n",
    "    while temp > 1:\n",
    "        if n%temp == 0:\n",
    "            return False\n",
    "        temp-=1\n",
    "    return True\n",
    "\n",
    "is_prime(2)"
   ]
  },
  {
   "cell_type": "code",
   "execution_count": 18,
   "metadata": {},
   "outputs": [
    {
     "data": {
      "text/plain": [
       "2"
      ]
     },
     "execution_count": 18,
     "metadata": {},
     "output_type": "execute_result"
    }
   ],
   "source": [
    "def unique_digits(n):\n",
    "    \"\"\"Return the number of unique digits in positive integer n.\n",
    "\n",
    "    >>> unique_digits(8675309) # All are unique\n",
    "    7\n",
    "    >>> unique_digits(13173131) # 1, 3, and 7\n",
    "    3\n",
    "    >>> unique_digits(101) # 0 and 1\n",
    "    2\n",
    "    \"\"\"\n",
    "    \"*** YOUR CODE HERE ***\"\n",
    "\n",
    "    digi = []\n",
    "    while n!=0:\n",
    "        num = n%10\n",
    "        if num not in digi:\n",
    "            digi.append(num)\n",
    "        n//=10\n",
    "    return len(digi)\n",
    "\n",
    "unique_digits(101)"
   ]
  },
  {
   "cell_type": "code",
   "execution_count": 24,
   "metadata": {},
   "outputs": [
    {
     "data": {
      "text/plain": [
       "False"
      ]
     },
     "execution_count": 24,
     "metadata": {},
     "output_type": "execute_result"
    }
   ],
   "source": [
    "def has_digit(n, k):\n",
    "    \"\"\"Returns whether K is a digit in N.\n",
    "    >>> has_digit(10, 1)\n",
    "    True\n",
    "    >>> has_digit(12, 7)\n",
    "    False\n",
    "    \"\"\"\n",
    "    \"*** YOUR CODE HERE ***\"\n",
    "    digi = []\n",
    "    while n!=0:\n",
    "        digi.append(n%10)\n",
    "        n//=10\n",
    "    return k in digi\n",
    "\n",
    "has_digit(12,7)"
   ]
  },
  {
   "cell_type": "code",
   "execution_count": 21,
   "metadata": {},
   "outputs": [
    {
     "name": "stdout",
     "output_type": "stream",
     "text": [
      "1\n",
      "2\n",
      "fizz\n",
      "4\n",
      "buzz\n",
      "fizz\n",
      "7\n",
      "8\n",
      "fizz\n",
      "buzz\n",
      "11\n",
      "fizz\n",
      "13\n",
      "14\n",
      "fizzbuzz\n",
      "16\n"
     ]
    }
   ],
   "source": [
    "def fizzbuzz(n):\n",
    "    \"\"\"\n",
    "    >>> result = fizzbuzz(16)\n",
    "    1\n",
    "    2\n",
    "    fizz\n",
    "    4\n",
    "    buzz\n",
    "    fizz\n",
    "    7\n",
    "    8\n",
    "    fizz\n",
    "    buzz\n",
    "    11\n",
    "    fizz\n",
    "    13\n",
    "    14\n",
    "    fizzbuzz\n",
    "    16\n",
    "    >>> result is None  # No return value\n",
    "    True\n",
    "    \"\"\"\n",
    "    \"*** YOUR CODE HERE ***\"\n",
    "\n",
    "    for i in range(1,n+1):\n",
    "            if i%5 == 0 and i%3 == 0 :\n",
    "                print('fizzbuzz')\n",
    "            elif i%3 == 0:\n",
    "                print('fizz')\n",
    "            elif i%5 == 0:\n",
    "                print('buzz')\n",
    "            else:\n",
    "                 print(i)\n",
    "\n",
    "fizzbuzz(16)"
   ]
  }
 ],
 "metadata": {
  "kernelspec": {
   "display_name": "cs188",
   "language": "python",
   "name": "python3"
  },
  "language_info": {
   "codemirror_mode": {
    "name": "ipython",
    "version": 3
   },
   "file_extension": ".py",
   "mimetype": "text/x-python",
   "name": "python",
   "nbconvert_exporter": "python",
   "pygments_lexer": "ipython3",
   "version": "3.10.12"
  },
  "orig_nbformat": 4
 },
 "nbformat": 4,
 "nbformat_minor": 2
}
